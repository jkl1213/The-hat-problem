{
 "cells": [
  {
   "cell_type": "code",
   "execution_count": 1,
   "metadata": {},
   "outputs": [],
   "source": [
    "import numpy as np\n",
    "\n",
    "prob = []\n",
    "n = 8\n",
    "for k in range(n+1):\n",
    "    arr = []\n",
    "    for j in range(n-k+1):\n",
    "        arr.append((-1)**j/np.math.factorial(j))\n",
    "    arr = np.array(arr)\n",
    "        \n",
    "    prob.append((1/np.math.factorial(k))*np.sum(arr))\n",
    "    "
   ]
  },
  {
   "cell_type": "code",
   "execution_count": 5,
   "metadata": {},
   "outputs": [
    {
     "data": {
      "image/png": "[encoded data removed]",
      "text/plain": [
       "<Figure size 432x288 with 1 Axes>"
      ]
     },
     "metadata": {
      "needs_background": "light"
     },
     "output_type": "display_data"
    }
   ],
   "source": [
    "import matplotlib.pyplot as plt\n",
    "x = np.arange(n+1)\n",
    "y = np.array(prob)\n",
    "plt.bar(x, y, color='grey');\n",
    "plt.title(\"Probability distribution of number of correct guesses in 12 people\");"
   ]
  },
  {
   "cell_type": "code",
   "execution_count": 3,
   "metadata": {
    "scrolled": false
   },
   "outputs": [
    {
     "data": {
      "text/plain": [
       "0.08023313492063493"
      ]
     },
     "execution_count": 3,
     "metadata": {},
     "output_type": "execute_result"
    }
   ],
   "source": [
    "np.sum(y[3:])"
   ]
  },
  {
   "cell_type": "code",
   "execution_count": 4,
   "metadata": {},
   "outputs": [
    {
     "data": {
      "text/plain": [
       "1.0"
      ]
     },
     "execution_count": 4,
     "metadata": {},
     "output_type": "execute_result"
    }
   ],
   "source": [
    "np.dot(x,y)"
   ]
  },
  {
   "cell_type": "code",
   "execution_count": 217,
   "metadata": {},
   "outputs": [
    {
     "data": {
      "image/png": "[encoded data removed]",
      "text/plain": [
       "<Figure size 432x288 with 1 Axes>"
      ]
     },
     "metadata": {
      "needs_background": "light"
     },
     "output_type": "display_data"
    }
   ],
   "source": [
    "import scipy\n",
    "n = 328\n",
    "m = 30\n",
    "results = []\n",
    "for k in range(m-1,n):\n",
    "    order = (np.math.factorial(m)/(np.math.factorial(2)*np.math.factorial(m-2)))\n",
    "    prob = order*((n-k)/scipy.special.binom(n,2))*(scipy.special.binom(k-1,m-2)/scipy.special.binom(n-2,m-2))\n",
    "    results.append(prob)\n",
    "\n",
    "import matplotlib.pyplot as plt\n",
    "x = np.arange(m-1,n)\n",
    "y = np.array(results)\n",
    "plt.bar(x, y, color='grey');\n",
    "plt.title(\"Probability distribution of maximum gap\");\n",
    "plt.xlim(m-1,n);"
   ]
  },
  {
   "cell_type": "markdown",
   "metadata": {},
   "source": [
    "## Probability distribution of max gap for m numbers drawn from n numbers without replacement"
   ]
  },
  {
   "cell_type": "code",
   "execution_count": 229,
   "metadata": {},
   "outputs": [],
   "source": [
    "import scipy\n",
    "n = 100\n",
    "m = 5\n",
    "results = []\n",
    "for k in range(m-1,n):\n",
    "    prob = scipy.special.binom(k-1,m-2)*(n-k)/scipy.special.binom(n,m)\n",
    "    results.append(prob)\n"
   ]
  },
  {
   "cell_type": "code",
   "execution_count": 230,
   "metadata": {},
   "outputs": [
    {
     "data": {
      "image/png": "[encoded data removed]",
      "text/plain": [
       "<Figure size 432x288 with 1 Axes>"
      ]
     },
     "metadata": {
      "needs_background": "light"
     },
     "output_type": "display_data"
    }
   ],
   "source": [
    "import matplotlib.pyplot as plt\n",
    "x = np.arange(m-1,n)\n",
    "y = np.array(results)\n",
    "plt.bar(x, y, color='grey');\n",
    "plt.title(\"Probability distribution of maximum gap\");\n",
    "plt.xlim(m-1,n);"
   ]
  },
  {
   "cell_type": "code",
   "execution_count": 231,
   "metadata": {},
   "outputs": [
    {
     "data": {
      "text/plain": [
       "1.0"
      ]
     },
     "execution_count": 231,
     "metadata": {},
     "output_type": "execute_result"
    }
   ],
   "source": [
    "np.sum(results)"
   ]
  },
  {
   "cell_type": "code",
   "execution_count": 232,
   "metadata": {},
   "outputs": [
    {
     "data": {
      "text/plain": [
       "67.33333333333333"
      ]
     },
     "execution_count": 232,
     "metadata": {},
     "output_type": "execute_result"
    }
   ],
   "source": [
    "#mean\n",
    "np.dot(results,x)"
   ]
  },
  {
   "cell_type": "code",
   "execution_count": 233,
   "metadata": {},
   "outputs": [
    {
     "name": "stdout",
     "output_type": "stream",
     "text": [
      "Median: 65\n"
     ]
    }
   ],
   "source": [
    "#median\n",
    "p = 0\n",
    "for i in range(len(results)+1):\n",
    "    p += results[i]\n",
    "    if p >= 0.5:\n",
    "        print(\"Median: {}\".format(i))\n",
    "        break"
   ]
  },
  {
   "cell_type": "code",
   "execution_count": 223,
   "metadata": {},
   "outputs": [
    {
     "name": "stdout",
     "output_type": "stream",
     "text": [
      "k for which P(X<k) = 0.55: 77\n"
     ]
    }
   ],
   "source": [
    "p = 0\n",
    "prob = 0.55\n",
    "for i in range(len(results)+1):\n",
    "    p += results[i]\n",
    "    if p >= prob:\n",
    "        print(\"k for which P(X<k) = {}: {}\".format(prob,i))\n",
    "        break"
   ]
  },
  {
   "cell_type": "code",
   "execution_count": 240,
   "metadata": {},
   "outputs": [
    {
     "data": {
      "text/plain": [
       "0.5471986326551864"
      ]
     },
     "execution_count": 240,
     "metadata": {},
     "output_type": "execute_result"
    }
   ],
   "source": [
    "np.sum(results[1:68])"
   ]
  },
  {
   "cell_type": "code",
   "execution_count": 252,
   "metadata": {},
   "outputs": [
    {
     "name": "stdout",
     "output_type": "stream",
     "text": [
      "Your lucky draw results are: [79, 84, 33, 98, 27]\n"
     ]
    },
    {
     "data": {
      "text/plain": [
       "71"
      ]
     },
     "execution_count": 252,
     "metadata": {},
     "output_type": "execute_result"
    }
   ],
   "source": [
    "    rand = random.sample(num, m)\n",
    "    print(\"Your lucky draw results are: {}\".format(rand))\n",
    "    max_num = max(rand)\n",
    "    min_num = min(rand)\n",
    "    gap = max_num - min_num\n",
    "    gap"
   ]
  },
  {
   "cell_type": "markdown",
   "metadata": {},
   "source": [
    "### Run simulation to see if the empirical probability distribution is close to calculation"
   ]
  },
  {
   "cell_type": "code",
   "execution_count": 163,
   "metadata": {},
   "outputs": [],
   "source": [
    "\n",
    "import random\n",
    "n = n\n",
    "m = m\n",
    "res = []\n",
    "rep = 5000\n",
    "num = set(np.arange(1,n+1))\n",
    "for i in range(rep):\n",
    "    rand = random.sample(num, m)\n",
    "    max_num = max(rand)\n",
    "    min_num = min(rand)\n",
    "    gap = max_num - min_num\n",
    "    res.append(gap)\n",
    "    "
   ]
  },
  {
   "cell_type": "code",
   "execution_count": 164,
   "metadata": {},
   "outputs": [],
   "source": [
    "from collections import Counter\n",
    "import collections\n",
    "recounted = Counter(res)\n",
    "dict(recounted)\n",
    "od = collections.OrderedDict(sorted(dict(recounted).items()))\n"
   ]
  },
  {
   "cell_type": "code",
   "execution_count": 165,
   "metadata": {},
   "outputs": [],
   "source": [
    "empirical_prob = []\n",
    "gap = []\n",
    "for k, v in od.items(): \n",
    "    empirical_prob.append(v/rep)\n",
    "    gap.append(k)"
   ]
  },
  {
   "cell_type": "code",
   "execution_count": 166,
   "metadata": {},
   "outputs": [
    {
     "data": {
      "image/png": "[encoded data removed]",
      "text/plain": [
       "<Figure size 432x288 with 1 Axes>"
      ]
     },
     "metadata": {
      "needs_background": "light"
     },
     "output_type": "display_data"
    }
   ],
   "source": [
    "import matplotlib.pyplot as plt\n",
    "x = np.array(gap)\n",
    "y = np.array(empirical_prob)\n",
    "plt.bar(x, y, color='grey');\n",
    "plt.title(\"Probability distribution of maximum gap\");\n",
    "plt.xlim(m-1,n);"
   ]
  },
  {
   "cell_type": "code",
   "execution_count": 167,
   "metadata": {},
   "outputs": [
    {
     "data": {
      "text/plain": [
       "67.94080000000001"
      ]
     },
     "execution_count": 167,
     "metadata": {},
     "output_type": "execute_result"
    }
   ],
   "source": [
    "np.dot(y,x)"
   ]
  },
  {
   "cell_type": "code",
   "execution_count": 304,
   "metadata": {},
   "outputs": [
    {
     "name": "stdout",
     "output_type": "stream",
     "text": [
      "Bingo! You hit the jackpot at the 49th draw. Your draw is [55, 57, 64, 65, 66]\n"
     ]
    }
   ],
   "source": [
    "a = 0\n",
    "rep = 0\n",
    "while a == 0:\n",
    "    rep += 1\n",
    "    rand = random.sample(num, m)\n",
    "    #print(\"Your lucky draw results are: {}\".format(rand))\n",
    "    max_num = max(rand)\n",
    "    min_num = min(rand)\n",
    "    gap = max_num - min_num\n",
    "    rand.sort()\n",
    "    gaps = []\n",
    "    count = 0\n",
    "    for i in range(4):\n",
    "        difference = rand[i+1]-rand[i]\n",
    "        if difference == 1:\n",
    "            count += 1\n",
    "        else:\n",
    "            count = 0\n",
    "    if count == 2:\n",
    "        print(\"Bingo! You hit the jackpot at the {}th draw. Your draw is {}\".format(rep,rand))\n",
    "        break\n",
    "\n",
    "    "
   ]
  },
  {
   "cell_type": "code",
   "execution_count": 255,
   "metadata": {},
   "outputs": [],
   "source": []
  },
  {
   "cell_type": "code",
   "execution_count": 256,
   "metadata": {},
   "outputs": [
    {
     "data": {
      "text/plain": [
       "[27, 33, 79, 84, 98]"
      ]
     },
     "execution_count": 256,
     "metadata": {},
     "output_type": "execute_result"
    }
   ],
   "source": []
  },
  {
   "cell_type": "code",
   "execution_count": null,
   "metadata": {},
   "outputs": [],
   "source": []
  }
 ],
 "metadata": {
  "kernelspec": {
   "display_name": "Python 3",
   "language": "python",
   "name": "python3"
  },
  "language_info": {
   "codemirror_mode": {
    "name": "ipython",
    "version": 3
   },
   "file_extension": ".py",
   "mimetype": "text/x-python",
   "name": "python",
   "nbconvert_exporter": "python",
   "pygments_lexer": "ipython3",
   "version": "3.7.4"
  }
 },
 "nbformat": 4,
 "nbformat_minor": 2
}
